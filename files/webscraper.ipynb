{
 "cells": [
  {
   "cell_type": "markdown",
   "metadata": {
    "deletable": false,
    "editable": false
   },
   "source": [
    "# A web scraping demonstration using Python\n",
    "\n",
    "We will be using *Jupyter Notebooks* to learn Python code in this class. Jupyter Notebooks should be installed by downloading Anaconda with Python 3.7 from the following link:\n",
    "https://www.anaconda.com/products/individual.\n",
    "\n",
    "Once installed, you can open the Anaconda Navigator and Launch a Jupyter Notebook.\n",
    " \n",
    "For additional Python practice see: https://docs.python.org/3/tutorial/,\n",
    "starting with \"An informal introduction to Python\"."
   ]
  },
  {
   "cell_type": "markdown",
   "metadata": {
    "deletable": false,
    "editable": false
   },
   "source": [
    "### Python print function\n",
    "\n",
    "The python print function in its simplest form is\n",
    "```python\n",
    "print(x)\n",
    "```\n",
    "\n",
    "which prints the value of *x*."
   ]
  },
  {
   "cell_type": "code",
   "execution_count": null,
   "metadata": {
    "deletable": false,
    "editable": false
   },
   "outputs": [],
   "source": [
    "print('hello world')"
   ]
  },
  {
   "cell_type": "markdown",
   "metadata": {
    "deletable": false,
    "editable": false
   },
   "source": [
    "We can also print the values of multiple objects, using\n",
    "```python\n",
    "print(x, y, ...)\n",
    "```"
   ]
  },
  {
   "cell_type": "code",
   "execution_count": null,
   "metadata": {
    "deletable": false,
    "editable": false
   },
   "outputs": [],
   "source": [
    "print('hello', 'world')"
   ]
  },
  {
   "cell_type": "markdown",
   "metadata": {
    "deletable": false,
    "editable": false
   },
   "source": [
    "### A variable stores a value\n",
    "\n",
    "The statement \n",
    "```python\n",
    "x = val\n",
    "```\n",
    "\n",
    "assigns the value *val* to the variable *x*"
   ]
  },
  {
   "cell_type": "code",
   "execution_count": null,
   "metadata": {
    "deletable": false,
    "editable": false
   },
   "outputs": [],
   "source": [
    "x = 1\n",
    "print('The value of x is', x)"
   ]
  },
  {
   "cell_type": "code",
   "execution_count": null,
   "metadata": {
    "deletable": false,
    "editable": false
   },
   "outputs": [],
   "source": [
    "x = x + 5\n",
    "print('The value of x is', x)"
   ]
  },
  {
   "cell_type": "markdown",
   "metadata": {
    "deletable": false,
    "editable": false
   },
   "source": [
    "### A list is used to store a sequential collection of values\n",
    "\n",
    "A list is specified using the notation\n",
    "\n",
    "```python\n",
    "listName = [item1, item2, ...]\n",
    "```"
   ]
  },
  {
   "cell_type": "code",
   "execution_count": null,
   "metadata": {
    "deletable": false,
    "editable": false,
    "scrolled": true
   },
   "outputs": [],
   "source": [
    "x = ['one', 'two']\n",
    "x"
   ]
  },
  {
   "cell_type": "markdown",
   "metadata": {
    "deletable": false,
    "editable": false
   },
   "source": [
    "The *append* method adds an object to the list"
   ]
  },
  {
   "cell_type": "code",
   "execution_count": null,
   "metadata": {
    "deletable": false,
    "editable": false
   },
   "outputs": [],
   "source": [
    "# add the string 'three' to the list\n",
    "x.append('three')\n",
    "x"
   ]
  },
  {
   "cell_type": "markdown",
   "metadata": {
    "deletable": false,
    "editable": false
   },
   "source": [
    "### The *split* method splits a string into multiple pieces\n",
    "\n",
    "```\n",
    "x.split(sep)\n",
    "```\n",
    "will split the string *x* and create a list of strings that are each separated by *sep*.\n",
    "If *sep* is not specified, the string is split by any whitespace character (blank spaces, newlines, and tabs)"
   ]
  },
  {
   "cell_type": "code",
   "execution_count": null,
   "metadata": {
    "deletable": false,
    "editable": false,
    "scrolled": true
   },
   "outputs": [],
   "source": [
    "sentence = 'This is a sentence'\n",
    "sentence.split('a')"
   ]
  },
  {
   "cell_type": "code",
   "execution_count": null,
   "metadata": {
    "deletable": false,
    "editable": false
   },
   "outputs": [],
   "source": [
    "sentence.split()"
   ]
  },
  {
   "cell_type": "markdown",
   "metadata": {
    "deletable": false,
    "editable": false
   },
   "source": [
    "### A *for* loop is used to iterate over each element in a list\n",
    "\n",
    "A for loop is used to iterate over each item in a sequence (which includes lists and tuples, amont others)\n",
    "\n",
    "The syntax is\n",
    "\n",
    "```python\n",
    "for item in sequence :\n",
    "    # do something with the item\n",
    "```"
   ]
  },
  {
   "cell_type": "code",
   "execution_count": null,
   "metadata": {
    "deletable": false,
    "editable": false
   },
   "outputs": [],
   "source": [
    "words = ['hello', 'world', 'python']\n",
    "\n",
    "print('The words are:')\n",
    "for w in words :\n",
    "    print(' ', w)"
   ]
  },
  {
   "cell_type": "markdown",
   "metadata": {
    "deletable": false,
    "editable": false
   },
   "source": [
    "## Webscraping using BeautifulSoup\n",
    "\n",
    "We will use the python module BeautifulSoup 4, (*bs4*), for web scraping in this class. More information and some examples can be found at the following site: https://beautiful-soup-4.readthedocs.io/en/latest/\n",
    "\n",
    "We will scrape pages from Wikipedia, starting with https://en.wikipedia.org/wiki/Tom_Hanks\n",
    "\n",
    "The robots file indicates that his is allowed: https://en.wikipedia.org/robots.txt\n",
    "\n",
    "### Retreive the web page using the *requests* module\n",
    "\n",
    "We first need to *get* the webpage, which we do using the *requests* module. It is good practice to create a *user-agent*, which identifies our web scraper.\n",
    "\n",
    "After making the request, a status of 200 indicates that the request was successful"
   ]
  },
  {
   "cell_type": "code",
   "execution_count": null,
   "metadata": {
    "deletable": false,
    "editable": false
   },
   "outputs": [],
   "source": [
    "from bs4 import BeautifulSoup\n",
    "import requests\n",
    "import time\n",
    "\n",
    "headers = {'user-agent': 'ASDD Web Scraper'}\n",
    "\n",
    "# get the page\n",
    "url = \"https://en.wikipedia.org/wiki/Tom_Hanks\"\n",
    "page = requests.get(url, headers = headers)\n",
    "\n",
    "page"
   ]
  },
  {
   "cell_type": "markdown",
   "metadata": {
    "deletable": false,
    "editable": false
   },
   "source": [
    "The content of the page (the HTML) is in *page.content*. This is not meant to be easily readable, but we will use *BeautifulSoup* to parse it."
   ]
  },
  {
   "cell_type": "code",
   "execution_count": null,
   "metadata": {
    "deletable": false,
    "editable": false
   },
   "outputs": [],
   "source": [
    "page.content"
   ]
  },
  {
   "cell_type": "markdown",
   "metadata": {
    "deletable": false,
    "editable": false
   },
   "source": [
    "We parse the page (i.e., create the soup) by using the BeatifulSoup function, which returns a BeautifulSoup object"
   ]
  },
  {
   "cell_type": "code",
   "execution_count": null,
   "metadata": {
    "deletable": false,
    "editable": false
   },
   "outputs": [],
   "source": [
    "soup = BeautifulSoup(page.content, 'html.parser')"
   ]
  },
  {
   "cell_type": "markdown",
   "metadata": {
    "deletable": false,
    "editable": false
   },
   "source": [
    "We can view the BeautifulSoup object by printing it; we can also use the prettify method for pretty printing (which may reformat indentations)"
   ]
  },
  {
   "cell_type": "code",
   "execution_count": null,
   "metadata": {
    "deletable": false,
    "editable": false
   },
   "outputs": [],
   "source": [
    "print(soup.prettify())"
   ]
  },
  {
   "cell_type": "markdown",
   "metadata": {
    "deletable": false,
    "editable": false
   },
   "source": [
    "The BeautifulSoup object stores the web page elements in a tree, which can be navigated and searched. Elements of this tree consist of strings or bs4 objects.\n",
    "\n",
    "First, we can specify a tag name to get the first element of that type.\n",
    "\n",
    "The code below gets the title of the page."
   ]
  },
  {
   "cell_type": "code",
   "execution_count": null,
   "metadata": {
    "deletable": false,
    "editable": false
   },
   "outputs": [],
   "source": [
    "soup.title"
   ]
  },
  {
   "cell_type": "markdown",
   "metadata": {
    "deletable": false,
    "editable": false
   },
   "source": [
    "For any element, we can extract the text of the element using the *text* method."
   ]
  },
  {
   "cell_type": "code",
   "execution_count": null,
   "metadata": {
    "deletable": false,
    "editable": false
   },
   "outputs": [],
   "source": [
    "soup.title.text"
   ]
  },
  {
   "cell_type": "markdown",
   "metadata": {
    "deletable": false,
    "editable": false
   },
   "source": [
    "### Searching for elements by tag name, class name, etc \n",
    "\n",
    "The two searching functions are as follows:\n",
    "- *element.find* will get the first occurence of the specified element\n",
    "- *element.find_all* will return a list with all occurrences of the specified elements\n",
    "\n",
    "Print out the text of the (first) element with id of 'firstHeading'"
   ]
  },
  {
   "cell_type": "code",
   "execution_count": null,
   "metadata": {
    "deletable": false,
    "editable": false
   },
   "outputs": [],
   "source": [
    "soup.find(id = 'firstHeading').text"
   ]
  },
  {
   "cell_type": "markdown",
   "metadata": {
    "deletable": false,
    "editable": false
   },
   "source": [
    "Let's print out the text of all *h2* elements"
   ]
  },
  {
   "cell_type": "code",
   "execution_count": null,
   "metadata": {
    "deletable": false,
    "editable": false
   },
   "outputs": [],
   "source": [
    "h2_list = soup.find_all('h2')\n",
    "for h2 in h2_list :\n",
    "    print(h2.text)"
   ]
  },
  {
   "cell_type": "markdown",
   "metadata": {
    "deletable": false,
    "editable": false
   },
   "source": [
    "The statement below indicates how we can get elements with a particular *class*."
   ]
  },
  {
   "cell_type": "code",
   "execution_count": null,
   "metadata": {
    "deletable": false,
    "editable": false
   },
   "outputs": [],
   "source": [
    "age = soup.find('span', {'class': 'ForceAgeToShow'})\n",
    "age"
   ]
  },
  {
   "cell_type": "markdown",
   "metadata": {
    "deletable": false,
    "editable": false
   },
   "source": [
    "We will want to extract the age from this element, which we accomplish using the function below."
   ]
  },
  {
   "cell_type": "code",
   "execution_count": null,
   "metadata": {
    "deletable": false,
    "editable": false
   },
   "outputs": [],
   "source": [
    "def formatAge(x) :\n",
    "    \"\"\"takes an string in the form '(age #)' and returns #\"\"\"\n",
    "    x = x.split()[1]\n",
    "    x = x.replace(')','')\n",
    "    return int(x)"
   ]
  },
  {
   "cell_type": "code",
   "execution_count": null,
   "metadata": {
    "deletable": false,
    "editable": false
   },
   "outputs": [],
   "source": [
    "formatAge(age.text)"
   ]
  },
  {
   "cell_type": "markdown",
   "metadata": {
    "deletable": false,
    "editable": false
   },
   "source": [
    "### Exercise\n",
    "\n",
    "Can you output Tom Hanks's full name (from the table on the right?)"
   ]
  },
  {
   "cell_type": "code",
   "execution_count": null,
   "metadata": {},
   "outputs": [],
   "source": []
  },
  {
   "cell_type": "markdown",
   "metadata": {
    "deletable": false,
    "editable": false
   },
   "source": [
    "### Let's compare the current ages of recent Grammy Award winners for Album of the Year\n",
    "\n",
    "First we create a list of URLs we want to scrape. Grammy Award winners are available here:\n",
    "\n",
    "https://en.wikipedia.org/wiki/Grammy_Award_for_Album_of_the_Year\n",
    "\n",
    "We also create empty lists for the names and ages of each winner."
   ]
  },
  {
   "cell_type": "code",
   "execution_count": null,
   "metadata": {
    "deletable": false,
    "editable": false
   },
   "outputs": [],
   "source": [
    "urls = ['https://en.wikipedia.org/wiki/Billie_Eilish',\n",
    "        'https://en.wikipedia.org/wiki/Kacey_Musgraves',\n",
    "        'https://en.wikipedia.org/wiki/Bruno_Mars',\n",
    "        'https://en.wikipedia.org/wiki/Adele',\n",
    "        'https://en.wikipedia.org/wiki/Taylor_Swift'\n",
    "       ]\n",
    "\n",
    "nameList = []\n",
    "ageList = []"
   ]
  },
  {
   "cell_type": "markdown",
   "metadata": {
    "deletable": false,
    "editable": false
   },
   "source": [
    "Now we use a *for* loop to iterate through each URL, and for each page, extract the name and age of the winner, and add these to the nameList and ageList. When scraping multiple pages, it is good practice to *sleep* so you do not overburden the web server. This is accomplished using the *time* module; after parsing each page, we sleep for 1 second before proceeding."
   ]
  },
  {
   "cell_type": "code",
   "execution_count": null,
   "metadata": {
    "deletable": false,
    "editable": false
   },
   "outputs": [],
   "source": [
    "import time\n",
    "\n",
    "# for each url\n",
    "for url in urls :\n",
    "    \n",
    "    # make a get request to retreive the page\n",
    "    page = requests.get(url, headers = headers)\n",
    "\n",
    "    # parse the page using BeautifulSoup\n",
    "    soup = BeautifulSoup(page.content, 'html.parser')\n",
    "    \n",
    "    # extract the name, and add it to the list\n",
    "    name = soup.find(id = 'firstHeading').text\n",
    "    nameList.append(name)\n",
    "    \n",
    "    # extract the age, and add it to the list\n",
    "    age = soup.find(True, {'class': 'ForceAgeToShow'})\n",
    "    ageList.append(formatAge(age.text))\n",
    "    \n",
    "    # sleep for 1 second\n",
    "    time.sleep(1)"
   ]
  },
  {
   "cell_type": "markdown",
   "metadata": {
    "deletable": false,
    "editable": false
   },
   "source": [
    "Check the *nameList*:"
   ]
  },
  {
   "cell_type": "code",
   "execution_count": null,
   "metadata": {
    "deletable": false,
    "editable": false
   },
   "outputs": [],
   "source": [
    "nameList"
   ]
  },
  {
   "cell_type": "markdown",
   "metadata": {
    "deletable": false,
    "editable": false
   },
   "source": [
    "Check the *ageList*:"
   ]
  },
  {
   "cell_type": "code",
   "execution_count": null,
   "metadata": {
    "deletable": false,
    "editable": false
   },
   "outputs": [],
   "source": [
    "ageList"
   ]
  },
  {
   "cell_type": "markdown",
   "metadata": {
    "deletable": false,
    "editable": false
   },
   "source": [
    "Next we create a *data frame* using the *pandas* module. The data frame is created by first specifying a Python dictionary (not discussed) that has the form\n",
    "\n",
    "```python\n",
    "{'columnName1': list_of_values1, 'columnName2': list_of_values2, ...}\n",
    "```"
   ]
  },
  {
   "cell_type": "code",
   "execution_count": null,
   "metadata": {
    "deletable": false,
    "editable": false
   },
   "outputs": [],
   "source": [
    "import pandas as pd\n",
    "df = pd.DataFrame({'Name': nameList, 'Age': ageList})\n",
    "df"
   ]
  },
  {
   "cell_type": "markdown",
   "metadata": {
    "deletable": false,
    "editable": false
   },
   "source": [
    "Once we have a data frame, we can create a bar graph of our results (Note: you may need to run this twice for the graph to show)"
   ]
  },
  {
   "cell_type": "code",
   "execution_count": null,
   "metadata": {
    "deletable": false,
    "editable": false,
    "scrolled": true
   },
   "outputs": [],
   "source": [
    "ax = df.plot.bar(x = 'Name', y = 'Age', rot = 45, legend = False)\n",
    "ax.set(xlabel = 'Grammy Winner', ylabel = 'Age', \n",
    "       title = 'Current ages of Grammy winners for Album of the Year')\n",
    "None"
   ]
  },
  {
   "cell_type": "markdown",
   "metadata": {
    "deletable": false,
    "editable": false
   },
   "source": [
    "### Exercises\n",
    "1. Add additional Grammy winners (or other individuals) to the list\n",
    "2. For each artist, extract and output the artist's birth place, using the format *Taylor Swift's birthplace is West Reading, Pennsylvania, U.S.*\n"
   ]
  },
  {
   "cell_type": "code",
   "execution_count": null,
   "metadata": {},
   "outputs": [],
   "source": []
  }
 ],
 "metadata": {
  "kernelspec": {
   "display_name": "Python 3",
   "language": "python",
   "name": "python3"
  },
  "language_info": {
   "codemirror_mode": {
    "name": "ipython",
    "version": 3
   },
   "file_extension": ".py",
   "mimetype": "text/x-python",
   "name": "python",
   "nbconvert_exporter": "python",
   "pygments_lexer": "ipython3",
   "version": "3.7.4"
  }
 },
 "nbformat": 4,
 "nbformat_minor": 2
}
